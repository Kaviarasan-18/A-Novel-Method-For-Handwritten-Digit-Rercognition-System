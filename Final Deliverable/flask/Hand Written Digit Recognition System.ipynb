{
 "cells": [
  {
   "cell_type": "markdown",
   "id": "f6e776de",
   "metadata": {},
   "source": [
    "**Importing The Required Libraries**"
   ]
  },
  {
   "cell_type": "code",
   "execution_count": 1,
   "id": "1da6f7b1",
   "metadata": {},
   "outputs": [],
   "source": [
    "import tensorflow \n",
    "from tensorflow.keras.datasets import mnist \n",
    "from tensorflow.keras.models import Sequential\n",
    "from tensorflow.keras import layers\n",
    "from tensorflow.keras.layers import Dense, Flatten \n",
    "from tensorflow.keras.layers import Conv2D \n",
    "from keras.optimizers import Adam \n",
    "from keras.utils import np_utils \n",
    "import numpy"
   ]
  },
  {
   "cell_type": "markdown",
   "id": "de5430bf",
   "metadata": {},
   "source": [
    "**Loading The Data**"
   ]
  },
  {
   "cell_type": "code",
   "execution_count": 2,
   "id": "fd7699ba",
   "metadata": {},
   "outputs": [],
   "source": [
    "(X_train, y_train), (X_test, y_test) = mnist.load_data()"
   ]
  },
  {
   "cell_type": "code",
   "execution_count": 3,
   "id": "0b6fb2fd",
   "metadata": {},
   "outputs": [
    {
     "name": "stdout",
     "output_type": "stream",
     "text": [
      "(60000, 28, 28)\n",
      "(10000, 28, 28)\n"
     ]
    }
   ],
   "source": [
    "print(X_train.shape)\n",
    "print(X_test.shape)"
   ]
  },
  {
   "cell_type": "markdown",
   "id": "b0fba3a1",
   "metadata": {},
   "source": [
    "**Analyzing The Data**"
   ]
  },
  {
   "cell_type": "code",
   "execution_count": 4,
   "id": "69776cbc",
   "metadata": {},
   "outputs": [
    {
     "data": {
      "text/plain": [
       "array([[  0,   0,   0,   0,   0,   0,   0,   0,   0,   0,   0,   0,   0,\n",
       "          0,   0,   0,   0,   0,   0,   0,   0,   0,   0,   0,   0,   0,\n",
       "          0,   0],\n",
       "       [  0,   0,   0,   0,   0,   0,   0,   0,   0,   0,   0,   0,   0,\n",
       "          0,   0,   0,   0,   0,   0,   0,   0,   0,   0,   0,   0,   0,\n",
       "          0,   0],\n",
       "       [  0,   0,   0,   0,   0,   0,   0,   0,   0,   0,   0,   0,   0,\n",
       "          0,   0,   0,   0,   0,   0,   0,   0,   0,   0,   0,   0,   0,\n",
       "          0,   0],\n",
       "       [  0,   0,   0,   0,   0,   0,   0,   0,   0,   0,   0,   0,   0,\n",
       "          0,   0,   0,   0,   0,   0,   0,   0,   0,   0,   0,   0,   0,\n",
       "          0,   0],\n",
       "       [  0,   0,   0,   0,   0,   0,   0,   0,   0,   0,   0,   0,   0,\n",
       "          0,   0,   0,   0,   0,   0,   0,   0,   0,   0,   0,   0,   0,\n",
       "          0,   0],\n",
       "       [  0,   0,   0,   0,   0,   0,   0,   0,   0,   0,   0,   0,   3,\n",
       "         18,  18,  18, 126, 136, 175,  26, 166, 255, 247, 127,   0,   0,\n",
       "          0,   0],\n",
       "       [  0,   0,   0,   0,   0,   0,   0,   0,  30,  36,  94, 154, 170,\n",
       "        253, 253, 253, 253, 253, 225, 172, 253, 242, 195,  64,   0,   0,\n",
       "          0,   0],\n",
       "       [  0,   0,   0,   0,   0,   0,   0,  49, 238, 253, 253, 253, 253,\n",
       "        253, 253, 253, 253, 251,  93,  82,  82,  56,  39,   0,   0,   0,\n",
       "          0,   0],\n",
       "       [  0,   0,   0,   0,   0,   0,   0,  18, 219, 253, 253, 253, 253,\n",
       "        253, 198, 182, 247, 241,   0,   0,   0,   0,   0,   0,   0,   0,\n",
       "          0,   0],\n",
       "       [  0,   0,   0,   0,   0,   0,   0,   0,  80, 156, 107, 253, 253,\n",
       "        205,  11,   0,  43, 154,   0,   0,   0,   0,   0,   0,   0,   0,\n",
       "          0,   0],\n",
       "       [  0,   0,   0,   0,   0,   0,   0,   0,   0,  14,   1, 154, 253,\n",
       "         90,   0,   0,   0,   0,   0,   0,   0,   0,   0,   0,   0,   0,\n",
       "          0,   0],\n",
       "       [  0,   0,   0,   0,   0,   0,   0,   0,   0,   0,   0, 139, 253,\n",
       "        190,   2,   0,   0,   0,   0,   0,   0,   0,   0,   0,   0,   0,\n",
       "          0,   0],\n",
       "       [  0,   0,   0,   0,   0,   0,   0,   0,   0,   0,   0,  11, 190,\n",
       "        253,  70,   0,   0,   0,   0,   0,   0,   0,   0,   0,   0,   0,\n",
       "          0,   0],\n",
       "       [  0,   0,   0,   0,   0,   0,   0,   0,   0,   0,   0,   0,  35,\n",
       "        241, 225, 160, 108,   1,   0,   0,   0,   0,   0,   0,   0,   0,\n",
       "          0,   0],\n",
       "       [  0,   0,   0,   0,   0,   0,   0,   0,   0,   0,   0,   0,   0,\n",
       "         81, 240, 253, 253, 119,  25,   0,   0,   0,   0,   0,   0,   0,\n",
       "          0,   0],\n",
       "       [  0,   0,   0,   0,   0,   0,   0,   0,   0,   0,   0,   0,   0,\n",
       "          0,  45, 186, 253, 253, 150,  27,   0,   0,   0,   0,   0,   0,\n",
       "          0,   0],\n",
       "       [  0,   0,   0,   0,   0,   0,   0,   0,   0,   0,   0,   0,   0,\n",
       "          0,   0,  16,  93, 252, 253, 187,   0,   0,   0,   0,   0,   0,\n",
       "          0,   0],\n",
       "       [  0,   0,   0,   0,   0,   0,   0,   0,   0,   0,   0,   0,   0,\n",
       "          0,   0,   0,   0, 249, 253, 249,  64,   0,   0,   0,   0,   0,\n",
       "          0,   0],\n",
       "       [  0,   0,   0,   0,   0,   0,   0,   0,   0,   0,   0,   0,   0,\n",
       "          0,  46, 130, 183, 253, 253, 207,   2,   0,   0,   0,   0,   0,\n",
       "          0,   0],\n",
       "       [  0,   0,   0,   0,   0,   0,   0,   0,   0,   0,   0,   0,  39,\n",
       "        148, 229, 253, 253, 253, 250, 182,   0,   0,   0,   0,   0,   0,\n",
       "          0,   0],\n",
       "       [  0,   0,   0,   0,   0,   0,   0,   0,   0,   0,  24, 114, 221,\n",
       "        253, 253, 253, 253, 201,  78,   0,   0,   0,   0,   0,   0,   0,\n",
       "          0,   0],\n",
       "       [  0,   0,   0,   0,   0,   0,   0,   0,  23,  66, 213, 253, 253,\n",
       "        253, 253, 198,  81,   2,   0,   0,   0,   0,   0,   0,   0,   0,\n",
       "          0,   0],\n",
       "       [  0,   0,   0,   0,   0,   0,  18, 171, 219, 253, 253, 253, 253,\n",
       "        195,  80,   9,   0,   0,   0,   0,   0,   0,   0,   0,   0,   0,\n",
       "          0,   0],\n",
       "       [  0,   0,   0,   0,  55, 172, 226, 253, 253, 253, 253, 244, 133,\n",
       "         11,   0,   0,   0,   0,   0,   0,   0,   0,   0,   0,   0,   0,\n",
       "          0,   0],\n",
       "       [  0,   0,   0,   0, 136, 253, 253, 253, 212, 135, 132,  16,   0,\n",
       "          0,   0,   0,   0,   0,   0,   0,   0,   0,   0,   0,   0,   0,\n",
       "          0,   0],\n",
       "       [  0,   0,   0,   0,   0,   0,   0,   0,   0,   0,   0,   0,   0,\n",
       "          0,   0,   0,   0,   0,   0,   0,   0,   0,   0,   0,   0,   0,\n",
       "          0,   0],\n",
       "       [  0,   0,   0,   0,   0,   0,   0,   0,   0,   0,   0,   0,   0,\n",
       "          0,   0,   0,   0,   0,   0,   0,   0,   0,   0,   0,   0,   0,\n",
       "          0,   0],\n",
       "       [  0,   0,   0,   0,   0,   0,   0,   0,   0,   0,   0,   0,   0,\n",
       "          0,   0,   0,   0,   0,   0,   0,   0,   0,   0,   0,   0,   0,\n",
       "          0,   0]], dtype=uint8)"
      ]
     },
     "execution_count": 4,
     "metadata": {},
     "output_type": "execute_result"
    }
   ],
   "source": [
    "X_train[0]"
   ]
  },
  {
   "cell_type": "code",
   "execution_count": 5,
   "id": "daa59a1f",
   "metadata": {},
   "outputs": [
    {
     "data": {
      "text/plain": [
       "5"
      ]
     },
     "execution_count": 5,
     "metadata": {},
     "output_type": "execute_result"
    }
   ],
   "source": [
    "y_train[0]"
   ]
  },
  {
   "cell_type": "code",
   "execution_count": 6,
   "id": "f10b2024",
   "metadata": {},
   "outputs": [
    {
     "data": {
      "text/plain": [
       "<matplotlib.image.AxesImage at 0x20f1633b790>"
      ]
     },
     "execution_count": 6,
     "metadata": {},
     "output_type": "execute_result"
    },
    {
     "data": {
      "image/png": "[encoded data removed]",
      "text/plain": [
       "<Figure size 432x288 with 1 Axes>"
      ]
     },
     "metadata": {
      "needs_background": "light"
     },
     "output_type": "display_data"
    }
   ],
   "source": [
    "import matplotlib.pyplot as plt\n",
    "plt.imshow(X_train[0])"
   ]
  },
  {
   "cell_type": "markdown",
   "id": "efaf7045",
   "metadata": {},
   "source": [
    "**Reshaping The Data**"
   ]
  },
  {
   "cell_type": "code",
   "execution_count": 7,
   "id": "2dbd4525",
   "metadata": {},
   "outputs": [],
   "source": [
    "X_train = X_train.reshape(60000, 28, 28, 1).astype('float32') \n",
    "X_test = X_test.reshape(10000, 28, 28, 1).astype('float32')"
   ]
  },
  {
   "cell_type": "markdown",
   "id": "3884e5eb",
   "metadata": {},
   "source": [
    "**Applying One Hot Encoding**"
   ]
  },
  {
   "cell_type": "code",
   "execution_count": 8,
   "id": "08d1c124",
   "metadata": {},
   "outputs": [],
   "source": [
    "number_of_classes = 10 \n",
    "y_train = np_utils.to_categorical (y_train, number_of_classes) \n",
    "y_test = np_utils.to_categorical (y_test, number_of_classes)"
   ]
  },
  {
   "cell_type": "markdown",
   "id": "24636f4f",
   "metadata": {},
   "source": [
    "# Model Building"
   ]
  },
  {
   "cell_type": "markdown",
   "id": "e6cf40c5",
   "metadata": {},
   "source": [
    "**Add CNN Layers**"
   ]
  },
  {
   "cell_type": "code",
   "execution_count": 9,
   "id": "251e3087",
   "metadata": {},
   "outputs": [],
   "source": [
    "model = Sequential()\n",
    "model.add(Conv2D (64, (3, 3), input_shape=(28, 28, 1), activation='relu'))\n",
    "model.add(Conv2D (32, (3, 3), activation='relu'))\n",
    "model.add(Flatten())\n",
    "model.add(Dense(number_of_classes, activation='softmax'))"
   ]
  },
  {
   "cell_type": "markdown",
   "id": "c7e5ddfa",
   "metadata": {},
   "source": [
    "**Compiling The Model**"
   ]
  },
  {
   "cell_type": "code",
   "execution_count": 10,
   "id": "8e209bb8",
   "metadata": {},
   "outputs": [],
   "source": [
    "model.compile(loss='categorical_crossentropy', optimizer=\"Adam\", metrics=['accuracy'])"
   ]
  },
  {
   "cell_type": "markdown",
   "id": "e49c85bc",
   "metadata": {},
   "source": [
    "**Train The Model**"
   ]
  },
  {
   "cell_type": "code",
   "execution_count": 11,
   "id": "4a6a2bca",
   "metadata": {},
   "outputs": [
    {
     "name": "stdout",
     "output_type": "stream",
     "text": [
      "Epoch 1/10\n",
      "1875/1875 [==============================] - 385s 203ms/step - loss: 0.2750 - accuracy: 0.9512 - val_loss: 0.0818 - val_accuracy: 0.9737\n",
      "Epoch 2/10\n",
      "1875/1875 [==============================] - 352s 188ms/step - loss: 0.0706 - accuracy: 0.9788 - val_loss: 0.0924 - val_accuracy: 0.9761\n",
      "Epoch 3/10\n",
      "1875/1875 [==============================] - 367s 196ms/step - loss: 0.0512 - accuracy: 0.9837 - val_loss: 0.0771 - val_accuracy: 0.9773\n",
      "Epoch 4/10\n",
      "1875/1875 [==============================] - 403s 215ms/step - loss: 0.0407 - accuracy: 0.9871 - val_loss: 0.0872 - val_accuracy: 0.9764\n",
      "Epoch 5/10\n",
      "1875/1875 [==============================] - 405s 216ms/step - loss: 0.0308 - accuracy: 0.9900 - val_loss: 0.0985 - val_accuracy: 0.9787\n",
      "Epoch 6/10\n",
      "1875/1875 [==============================] - 447s 239ms/step - loss: 0.0236 - accuracy: 0.9927 - val_loss: 0.1611 - val_accuracy: 0.9706\n",
      "Epoch 7/10\n",
      "1875/1875 [==============================] - 405s 216ms/step - loss: 0.0240 - accuracy: 0.9930 - val_loss: 0.1129 - val_accuracy: 0.9768\n",
      "Epoch 8/10\n",
      "1875/1875 [==============================] - 372s 199ms/step - loss: 0.0182 - accuracy: 0.9947 - val_loss: 0.1319 - val_accuracy: 0.9780\n",
      "Epoch 9/10\n",
      "1875/1875 [==============================] - 422s 225ms/step - loss: 0.0155 - accuracy: 0.9955 - val_loss: 0.1524 - val_accuracy: 0.9740\n",
      "Epoch 10/10\n",
      "1875/1875 [==============================] - 362s 193ms/step - loss: 0.0156 - accuracy: 0.9956 - val_loss: 0.1533 - val_accuracy: 0.9773\n"
     ]
    },
    {
     "data": {
      "text/plain": [
       "<keras.callbacks.History at 0x20f1536da90>"
      ]
     },
     "execution_count": 11,
     "metadata": {},
     "output_type": "execute_result"
    }
   ],
   "source": [
    "model.fit(X_train, y_train, validation_data=(X_test, y_test), epochs=10, batch_size=32)"
   ]
  },
  {
   "cell_type": "markdown",
   "id": "9b36ae6b",
   "metadata": {},
   "source": [
    "**Observing The Metrics**"
   ]
  },
  {
   "cell_type": "code",
   "execution_count": 12,
   "id": "cc33856b",
   "metadata": {},
   "outputs": [
    {
     "name": "stdout",
     "output_type": "stream",
     "text": [
      "Metrics (Test loss & Test Accuracy): \n",
      "[0.15329968929290771, 0.9772999882698059]\n"
     ]
    }
   ],
   "source": [
    "metrics = model.evaluate(X_test, y_test, verbose=0) \n",
    "print(\"Metrics (Test loss & Test Accuracy): \") \n",
    "print(metrics)"
   ]
  },
  {
   "cell_type": "markdown",
   "id": "76c46592",
   "metadata": {},
   "source": [
    "**Test The Model**"
   ]
  },
  {
   "cell_type": "code",
   "execution_count": 13,
   "id": "5cc18e55",
   "metadata": {},
   "outputs": [
    {
     "name": "stdout",
     "output_type": "stream",
     "text": [
      "1/1 [==============================] - 1s 768ms/step\n",
      "[[1.0857199e-18 2.1145464e-30 7.0113629e-16 1.1680500e-20 1.8435780e-25\n",
      "  5.2242111e-25 5.5664750e-31 1.0000000e+00 4.3954972e-20 1.5664223e-17]\n",
      " [1.3340850e-16 2.7740623e-16 1.0000000e+00 2.8711814e-19 3.6351769e-21\n",
      "  6.3698570e-24 6.7587090e-14 4.9532856e-24 3.7661351e-16 2.9315632e-28]\n",
      " [5.3127663e-10 9.9997842e-01 7.1989086e-12 1.8439388e-18 2.1405183e-05\n",
      "  3.5915591e-12 6.1843618e-13 3.6695417e-12 6.3014603e-08 2.5819782e-16]\n",
      " [1.0000000e+00 5.5646002e-26 2.9324953e-18 2.0067744e-24 3.5023494e-21\n",
      "  7.6626303e-20 3.3256681e-17 1.7744768e-22 2.6976911e-17 3.1728283e-18]]\n"
     ]
    }
   ],
   "source": [
    "prediction=model.predict(X_test[:4]) \n",
    "print (prediction)"
   ]
  },
  {
   "cell_type": "code",
   "execution_count": 14,
   "id": "2b5c847e",
   "metadata": {},
   "outputs": [
    {
     "name": "stdout",
     "output_type": "stream",
     "text": [
      "[7 2 1 0]\n",
      "[[0. 0. 0. 0. 0. 0. 0. 1. 0. 0.]\n",
      " [0. 0. 1. 0. 0. 0. 0. 0. 0. 0.]\n",
      " [0. 1. 0. 0. 0. 0. 0. 0. 0. 0.]\n",
      " [1. 0. 0. 0. 0. 0. 0. 0. 0. 0.]]\n"
     ]
    }
   ],
   "source": [
    "import numpy as np\n",
    "print (np.argmax(prediction, axis=1))\n",
    "print (y_test[:4]) "
   ]
  },
  {
   "cell_type": "markdown",
   "id": "32005aa0",
   "metadata": {},
   "source": [
    "**Observing The Metrics**"
   ]
  },
  {
   "cell_type": "code",
   "execution_count": 15,
   "id": "e9f2347e",
   "metadata": {},
   "outputs": [
    {
     "name": "stdout",
     "output_type": "stream",
     "text": [
      "Metrics (Test loss & Test Accuracy): \n",
      "[0.15329968929290771, 0.9772999882698059]\n"
     ]
    }
   ],
   "source": [
    "metrics = model.evaluate(X_test, y_test, verbose=0) \n",
    "print(\"Metrics (Test loss & Test Accuracy): \") \n",
    "print(metrics)"
   ]
  },
  {
   "cell_type": "markdown",
   "id": "8ad2c862",
   "metadata": {},
   "source": [
    "**Test The Model**"
   ]
  },
  {
   "cell_type": "code",
   "execution_count": 16,
   "id": "13d2c1f4",
   "metadata": {},
   "outputs": [
    {
     "name": "stdout",
     "output_type": "stream",
     "text": [
      "1/1 [==============================] - 0s 80ms/step\n",
      "[[1.0857199e-18 2.1145464e-30 7.0113629e-16 1.1680500e-20 1.8435780e-25\n",
      "  5.2242111e-25 5.5664750e-31 1.0000000e+00 4.3954972e-20 1.5664223e-17]\n",
      " [1.3340850e-16 2.7740623e-16 1.0000000e+00 2.8711814e-19 3.6351769e-21\n",
      "  6.3698570e-24 6.7587090e-14 4.9532856e-24 3.7661351e-16 2.9315632e-28]\n",
      " [5.3127663e-10 9.9997842e-01 7.1989086e-12 1.8439388e-18 2.1405183e-05\n",
      "  3.5915591e-12 6.1843618e-13 3.6695417e-12 6.3014603e-08 2.5819782e-16]\n",
      " [1.0000000e+00 5.5646002e-26 2.9324953e-18 2.0067744e-24 3.5023494e-21\n",
      "  7.6626303e-20 3.3256681e-17 1.7744768e-22 2.6976911e-17 3.1728283e-18]]\n"
     ]
    }
   ],
   "source": [
    "prediction=model.predict(X_test[:4]) \n",
    "print (prediction)"
   ]
  },
  {
   "cell_type": "code",
   "execution_count": 20,
   "id": "d4bdfb58",
   "metadata": {},
   "outputs": [
    {
     "name": "stdout",
     "output_type": "stream",
     "text": [
      "[7 2 1 0]\n",
      "[[0. 0. 0. 0. 0. 0. 0. 1. 0. 0.]\n",
      " [0. 0. 1. 0. 0. 0. 0. 0. 0. 0.]\n",
      " [0. 1. 0. 0. 0. 0. 0. 0. 0. 0.]\n",
      " [1. 0. 0. 0. 0. 0. 0. 0. 0. 0.]]\n"
     ]
    }
   ],
   "source": [
    "import numpy as np\n",
    "print (np.argmax(prediction, axis=1))\n",
    "print (y_test[:4]) "
   ]
  },
  {
   "cell_type": "markdown",
   "id": "d26abef9",
   "metadata": {},
   "source": [
    "**Save The Model**"
   ]
  },
  {
   "cell_type": "code",
   "execution_count": 23,
   "id": "de86de19",
   "metadata": {},
   "outputs": [],
   "source": [
    "model.save('models/mnistCNN.h5')"
   ]
  },
  {
   "cell_type": "markdown",
   "id": "03f716b8",
   "metadata": {},
   "source": [
    "**Test With Saved Model**"
   ]
  },
  {
   "cell_type": "code",
   "execution_count": 36,
   "id": "f95ef00b",
   "metadata": {},
   "outputs": [
    {
     "name": "stdout",
     "output_type": "stream",
     "text": [
      "(28, 28, 1)\n",
      "(1, 28, 28, 1)\n",
      "**************************************************\n",
      "1/1 [==============================] - 0s 217ms/step\n",
      "[[1.6185023e-10 1.1487779e-11 9.9973482e-01 5.2156115e-09 5.7850588e-13\n",
      "  2.2684069e-16 3.1574066e-16 2.6516631e-04 2.3191360e-10 3.6229517e-14]]\n",
      "**************************************************\n",
      "1/1 [==============================] - 0s 82ms/step\n",
      "[[0. 0. 1. 0. 0. 0. 0. 0. 0. 0.]]\n"
     ]
    }
   ],
   "source": [
    "from tensorflow.keras.models import load_model\n",
    "from tensorflow.keras.preprocessing import image \n",
    "import numpy as np\n",
    "\n",
    "model = load_model('C:/Users/Guru/Handwritten Digit Recoginition System/models/mnistCNN.h5') \n",
    "img = image.load_img('C:/Users/Guru/Handwritten Digit Recoginition System/data/image-2.jpg', target_size=(28,28), grayscale=True)\n",
    "img = image.img_to_array(img) \n",
    "print(img.shape)\n",
    "x = np.expand_dims(img,axis=0)\n",
    "print(x.shape) \n",
    "print('*'*50)\n",
    "print(model.predict(x))\n",
    "print('*'*50)\n",
    "print(np.round_(model.predict(x)))\n"
   ]
  },
  {
   "cell_type": "code",
   "execution_count": null,
   "id": "e5a3dd9f",
   "metadata": {},
   "outputs": [],
   "source": []
  },
  {
   "cell_type": "code",
   "execution_count": null,
   "id": "7d809909",
   "metadata": {},
   "outputs": [],
   "source": []
  }
 ],
 "metadata": {
  "kernelspec": {
   "display_name": "Python 3 (ipykernel)",
   "language": "python",
   "name": "python3"
  },
  "language_info": {
   "codemirror_mode": {
    "name": "ipython",
    "version": 3
   },
   "file_extension": ".py",
   "mimetype": "text/x-python",
   "name": "python",
   "nbconvert_exporter": "python",
   "pygments_lexer": "ipython3",
   "version": "3.9.12"
  }
 },
 "nbformat": 4,
 "nbformat_minor": 5
}
