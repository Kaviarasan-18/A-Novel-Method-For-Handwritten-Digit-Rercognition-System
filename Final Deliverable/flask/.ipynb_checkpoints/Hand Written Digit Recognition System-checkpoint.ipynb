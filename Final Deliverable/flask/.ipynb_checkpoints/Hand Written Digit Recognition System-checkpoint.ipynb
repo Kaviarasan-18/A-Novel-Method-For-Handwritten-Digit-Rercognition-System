{
 "cells": [
  {
   "cell_type": "code",
   "execution_count": null,
   "id": "1da6f7b1",
   "metadata": {},
   "outputs": [],
   "source": [
    "import tensorflow \n",
    "from tensorflow.keras.datasets import mnist \n",
    "from tensorflow.keras.models import Sequential\n",
    "from tensorflow.keras import layers\n",
    "from tensorflow.keras.layers import Dense, Flatten \n",
    "from tensorflow.keras.layers import Conv2D \n",
    "from keras.optimizers import Adam \n",
    "from keras.utils import np_utils \n",
    "import numpy"
   ]
  },
  {
   "cell_type": "code",
   "execution_count": null,
   "id": "fd7699ba",
   "metadata": {},
   "outputs": [],
   "source": [
    "(X_train, y_train), (X_test, y_test) = mnist.load_data()"
   ]
  },
  {
   "cell_type": "code",
   "execution_count": null,
   "id": "0b6fb2fd",
   "metadata": {},
   "outputs": [],
   "source": [
    "print(X_train.shape)\n",
    "print(X_test.shape)"
   ]
  },
  {
   "cell_type": "code",
   "execution_count": null,
   "id": "69776cbc",
   "metadata": {},
   "outputs": [],
   "source": [
    "X_train[0]"
   ]
  },
  {
   "cell_type": "code",
   "execution_count": null,
   "id": "daa59a1f",
   "metadata": {},
   "outputs": [],
   "source": [
    "y_train[0]"
   ]
  },
  {
   "cell_type": "code",
   "execution_count": null,
   "id": "f10b2024",
   "metadata": {},
   "outputs": [],
   "source": [
    "import matplotlib.pyplot as plt\n",
    "plt.imshow(X_train[0])"
   ]
  },
  {
   "cell_type": "code",
   "execution_count": null,
   "id": "2dbd4525",
   "metadata": {},
   "outputs": [],
   "source": [
    "X_train = X_train.reshape(60000, 28, 28, 1).astype('float32') \n",
    "X_test = X_test.reshape(10000, 28, 28, 1).astype('float32')"
   ]
  },
  {
   "cell_type": "code",
   "execution_count": null,
   "id": "08d1c124",
   "metadata": {},
   "outputs": [],
   "source": [
    "number_of_classes = 10 \n",
    "y_train = np_utils.to_categorical (y_train, number_of_classes) \n",
    "y_test = np_utils.to_categorical (y_test, number_of_classes)"
   ]
  },
  {
   "cell_type": "code",
   "execution_count": null,
   "id": "251e3087",
   "metadata": {},
   "outputs": [],
   "source": [
    "model = Sequential()\n",
    "model.add(Conv2D (64, (3, 3), input_shape=(28, 28, 1), activation='relu'))\n",
    "model.add(Conv2D (32, (3, 3), activation='relu'))\n",
    "model.add(Flatten())\n",
    "model.add(Dense(number_of_classes, activation='softmax'))"
   ]
  },
  {
   "cell_type": "code",
   "execution_count": null,
   "id": "8e209bb8",
   "metadata": {},
   "outputs": [],
   "source": [
    "model.compile(loss='categorical_crossentropy', optimizer=\"Adam\", metrics=['accuracy'])"
   ]
  },
  {
   "cell_type": "code",
   "execution_count": null,
   "id": "4a6a2bca",
   "metadata": {},
   "outputs": [],
   "source": [
    "model.fit(X_train, y_train, validation_data=(X_test, y_test), epochs=10, batch_size=32)"
   ]
  },
  {
   "cell_type": "code",
   "execution_count": null,
   "id": "cc33856b",
   "metadata": {},
   "outputs": [],
   "source": [
    "metrics = model.evaluate(X_test, y_test, verbose=0) \n",
    "print(\"Metrics (Test loss & Test Accuracy): \") \n",
    "print(metrics)"
   ]
  },
  {
   "cell_type": "code",
   "execution_count": null,
   "id": "5cc18e55",
   "metadata": {},
   "outputs": [],
   "source": [
    "prediction=model.predict(X_test[:4]) \n",
    "print (prediction)"
   ]
  },
  {
   "cell_type": "code",
   "execution_count": null,
   "id": "2b5c847e",
   "metadata": {},
   "outputs": [],
   "source": [
    "import numpy as np\n",
    "print (np.argmax(prediction, axis=1))\n",
    "print (y_test[:4]) "
   ]
  },
  {
   "cell_type": "code",
   "execution_count": null,
   "id": "e9f2347e",
   "metadata": {},
   "outputs": [],
   "source": [
    "metrics = model.evaluate(X_test, y_test, verbose=0) \n",
    "print(\"Metrics (Test loss & Test Accuracy): \") \n",
    "print(metrics)"
   ]
  },
  {
   "cell_type": "code",
   "execution_count": null,
   "id": "13d2c1f4",
   "metadata": {},
   "outputs": [],
   "source": [
    "prediction=model.predict(X_test[:4]) \n",
    "print (prediction)"
   ]
  },
  {
   "cell_type": "code",
   "execution_count": null,
   "id": "7adc2a8c",
   "metadata": {},
   "outputs": [],
   "source": [
    "import numpy as np\n",
    "print (np.argmax(prediction, axis=1))\n",
    "print (y_test[:4]) "
   ]
  },
  {
   "cell_type": "code",
   "execution_count": null,
   "id": "de86de19",
   "metadata": {},
   "outputs": [],
   "source": [
    "model.save('models/mnistCNN.h5')"
   ]
  },
  {
   "cell_type": "code",
   "execution_count": null,
   "id": "f95ef00b",
   "metadata": {},
   "outputs": [],
   "source": [
    "from tensorflow.keras.models import load_model\n",
    "from tensorflow.keras.preprocessing import image \n",
    "import numpy as np\n",
    "\n",
    "model = load_model('C:/Users/Guru/Handwritten Digit Recoginition System/models/mnistCNN.h5') \n",
    "img = image.load_img('C:/Users/Guru/Handwritten Digit Recoginition System/image-7.png', target_size=(28,28), grayscale=True)\n",
    "img = image.img_to_array(img) \n",
    "print(img.shape)\n",
    "x = np.expand_dims(img,axis=0)\n",
    "print(x.shape) \n",
    "print('*'*50)\n",
    "print(model.predict(x))\n",
    "print('*'*50)\n",
    "print(np.round_(model.predict(x)))\n"
   ]
  },
  {
   "cell_type": "code",
   "execution_count": null,
   "id": "e5a3dd9f",
   "metadata": {},
   "outputs": [],
   "source": []
  },
  {
   "cell_type": "code",
   "execution_count": null,
   "id": "7d809909",
   "metadata": {},
   "outputs": [],
   "source": []
  }
 ],
 "metadata": {
  "kernelspec": {
   "display_name": "Python 3 (ipykernel)",
   "language": "python",
   "name": "python3"
  },
  "language_info": {
   "codemirror_mode": {
    "name": "ipython",
    "version": 3
   },
   "file_extension": ".py",
   "mimetype": "text/x-python",
   "name": "python",
   "nbconvert_exporter": "python",
   "pygments_lexer": "ipython3",
   "version": "3.9.12"
  }
 },
 "nbformat": 4,
 "nbformat_minor": 5
}
